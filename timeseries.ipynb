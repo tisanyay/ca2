{
 "cells": [
  {
   "cell_type": "code",
   "execution_count": 14,
   "metadata": {},
   "outputs": [],
   "source": [
    "import pandas as pd\n",
    "import matplotlib.pyplot as plt\n",
    "import seaborn as sns"
   ]
  },
  {
   "cell_type": "code",
   "execution_count": 6,
   "metadata": {},
   "outputs": [
    {
     "data": {
      "text/html": [
       "<div>\n",
       "<style scoped>\n",
       "    .dataframe tbody tr th:only-of-type {\n",
       "        vertical-align: middle;\n",
       "    }\n",
       "\n",
       "    .dataframe tbody tr th {\n",
       "        vertical-align: top;\n",
       "    }\n",
       "\n",
       "    .dataframe thead th {\n",
       "        text-align: right;\n",
       "    }\n",
       "</style>\n",
       "<table border=\"1\" class=\"dataframe\">\n",
       "  <thead>\n",
       "    <tr style=\"text-align: right;\">\n",
       "      <th></th>\n",
       "      <th>Date</th>\n",
       "      <th>T</th>\n",
       "      <th>RH</th>\n",
       "      <th>Gas</th>\n",
       "      <th>Value</th>\n",
       "      <th>Unnamed: 5</th>\n",
       "      <th>Unnamed: 6</th>\n",
       "    </tr>\n",
       "  </thead>\n",
       "  <tbody>\n",
       "    <tr>\n",
       "      <th>0</th>\n",
       "      <td>15/3/2016</td>\n",
       "      <td>12.020833</td>\n",
       "      <td>54.883334</td>\n",
       "      <td>CO</td>\n",
       "      <td>1053.200000</td>\n",
       "      <td>NaN</td>\n",
       "      <td>NaN</td>\n",
       "    </tr>\n",
       "    <tr>\n",
       "      <th>1</th>\n",
       "      <td>16/3/2016</td>\n",
       "      <td>9.833333</td>\n",
       "      <td>64.069791</td>\n",
       "      <td>CO</td>\n",
       "      <td>995.250000</td>\n",
       "      <td>NaN</td>\n",
       "      <td>NaN</td>\n",
       "    </tr>\n",
       "    <tr>\n",
       "      <th>2</th>\n",
       "      <td>17/3/2016</td>\n",
       "      <td>11.292708</td>\n",
       "      <td>51.107292</td>\n",
       "      <td>CO</td>\n",
       "      <td>1025.250000</td>\n",
       "      <td>NaN</td>\n",
       "      <td>NaN</td>\n",
       "    </tr>\n",
       "    <tr>\n",
       "      <th>3</th>\n",
       "      <td>18/3/2016</td>\n",
       "      <td>12.866319</td>\n",
       "      <td>51.530903</td>\n",
       "      <td>CO</td>\n",
       "      <td>1064.444444</td>\n",
       "      <td>NaN</td>\n",
       "      <td>NaN</td>\n",
       "    </tr>\n",
       "    <tr>\n",
       "      <th>4</th>\n",
       "      <td>19/3/2016</td>\n",
       "      <td>16.016667</td>\n",
       "      <td>48.843750</td>\n",
       "      <td>CO</td>\n",
       "      <td>1088.741667</td>\n",
       "      <td>NaN</td>\n",
       "      <td>NaN</td>\n",
       "    </tr>\n",
       "  </tbody>\n",
       "</table>\n",
       "</div>"
      ],
      "text/plain": [
       "        Date          T         RH Gas        Value  Unnamed: 5  Unnamed: 6\n",
       "0  15/3/2016  12.020833  54.883334  CO  1053.200000         NaN         NaN\n",
       "1  16/3/2016   9.833333  64.069791  CO   995.250000         NaN         NaN\n",
       "2  17/3/2016  11.292708  51.107292  CO  1025.250000         NaN         NaN\n",
       "3  18/3/2016  12.866319  51.530903  CO  1064.444444         NaN         NaN\n",
       "4  19/3/2016  16.016667  48.843750  CO  1088.741667         NaN         NaN"
      ]
     },
     "execution_count": 6,
     "metadata": {},
     "output_type": "execute_result"
    }
   ],
   "source": [
    "df = pd.read_csv(\"./train.csv\")\n",
    "df.head()"
   ]
  },
  {
   "cell_type": "code",
   "execution_count": 7,
   "metadata": {},
   "outputs": [
    {
     "data": {
      "text/html": [
       "<div>\n",
       "<style scoped>\n",
       "    .dataframe tbody tr th:only-of-type {\n",
       "        vertical-align: middle;\n",
       "    }\n",
       "\n",
       "    .dataframe tbody tr th {\n",
       "        vertical-align: top;\n",
       "    }\n",
       "\n",
       "    .dataframe thead th {\n",
       "        text-align: right;\n",
       "    }\n",
       "</style>\n",
       "<table border=\"1\" class=\"dataframe\">\n",
       "  <thead>\n",
       "    <tr style=\"text-align: right;\">\n",
       "      <th></th>\n",
       "      <th>T</th>\n",
       "      <th>RH</th>\n",
       "      <th>Value</th>\n",
       "      <th>Unnamed: 5</th>\n",
       "      <th>Unnamed: 6</th>\n",
       "    </tr>\n",
       "  </thead>\n",
       "  <tbody>\n",
       "    <tr>\n",
       "      <th>count</th>\n",
       "      <td>1312.000000</td>\n",
       "      <td>1312.000000</td>\n",
       "      <td>1312.000000</td>\n",
       "      <td>0.0</td>\n",
       "      <td>0.0</td>\n",
       "    </tr>\n",
       "    <tr>\n",
       "      <th>mean</th>\n",
       "      <td>11.634917</td>\n",
       "      <td>39.873729</td>\n",
       "      <td>750.218839</td>\n",
       "      <td>NaN</td>\n",
       "      <td>NaN</td>\n",
       "    </tr>\n",
       "    <tr>\n",
       "      <th>std</th>\n",
       "      <td>37.041779</td>\n",
       "      <td>43.217836</td>\n",
       "      <td>225.520132</td>\n",
       "      <td>NaN</td>\n",
       "      <td>NaN</td>\n",
       "    </tr>\n",
       "    <tr>\n",
       "      <th>min</th>\n",
       "      <td>-200.000000</td>\n",
       "      <td>-200.000000</td>\n",
       "      <td>-160.000000</td>\n",
       "      <td>NaN</td>\n",
       "      <td>NaN</td>\n",
       "    </tr>\n",
       "    <tr>\n",
       "      <th>25%</th>\n",
       "      <td>12.387760</td>\n",
       "      <td>36.348177</td>\n",
       "      <td>648.370833</td>\n",
       "      <td>NaN</td>\n",
       "      <td>NaN</td>\n",
       "    </tr>\n",
       "    <tr>\n",
       "      <th>50%</th>\n",
       "      <td>18.832292</td>\n",
       "      <td>46.078993</td>\n",
       "      <td>769.370833</td>\n",
       "      <td>NaN</td>\n",
       "      <td>NaN</td>\n",
       "    </tr>\n",
       "    <tr>\n",
       "      <th>75%</th>\n",
       "      <td>25.557118</td>\n",
       "      <td>57.932292</td>\n",
       "      <td>880.570833</td>\n",
       "      <td>NaN</td>\n",
       "      <td>NaN</td>\n",
       "    </tr>\n",
       "    <tr>\n",
       "      <th>max</th>\n",
       "      <td>32.997917</td>\n",
       "      <td>81.104167</td>\n",
       "      <td>1436.233333</td>\n",
       "      <td>NaN</td>\n",
       "      <td>NaN</td>\n",
       "    </tr>\n",
       "  </tbody>\n",
       "</table>\n",
       "</div>"
      ],
      "text/plain": [
       "                 T           RH        Value  Unnamed: 5  Unnamed: 6\n",
       "count  1312.000000  1312.000000  1312.000000         0.0         0.0\n",
       "mean     11.634917    39.873729   750.218839         NaN         NaN\n",
       "std      37.041779    43.217836   225.520132         NaN         NaN\n",
       "min    -200.000000  -200.000000  -160.000000         NaN         NaN\n",
       "25%      12.387760    36.348177   648.370833         NaN         NaN\n",
       "50%      18.832292    46.078993   769.370833         NaN         NaN\n",
       "75%      25.557118    57.932292   880.570833         NaN         NaN\n",
       "max      32.997917    81.104167  1436.233333         NaN         NaN"
      ]
     },
     "execution_count": 7,
     "metadata": {},
     "output_type": "execute_result"
    }
   ],
   "source": [
    "df.describe()"
   ]
  },
  {
   "cell_type": "code",
   "execution_count": 9,
   "metadata": {},
   "outputs": [
    {
     "data": {
      "text/plain": [
       "Date             0\n",
       "T                0\n",
       "RH               0\n",
       "Gas              0\n",
       "Value            0\n",
       "Unnamed: 5    1312\n",
       "Unnamed: 6    1312\n",
       "dtype: int64"
      ]
     },
     "execution_count": 9,
     "metadata": {},
     "output_type": "execute_result"
    }
   ],
   "source": [
    "df.isna().sum()"
   ]
  },
  {
   "cell_type": "code",
   "execution_count": 16,
   "metadata": {},
   "outputs": [
    {
     "data": {
      "text/plain": [
       "<AxesSubplot:xlabel='Gas', ylabel='count'>"
      ]
     },
     "execution_count": 16,
     "metadata": {},
     "output_type": "execute_result"
    },
    {
     "data": {
      "image/png": "[encoded data removed]",
      "text/plain": [
       "<Figure size 432x288 with 1 Axes>"
      ]
     },
     "metadata": {
      "needs_background": "light"
     },
     "output_type": "display_data"
    }
   ],
   "source": [
    "sns.countplot(x=df.Gas)"
   ]
  },
  {
   "cell_type": "code",
   "execution_count": 41,
   "metadata": {},
   "outputs": [
    {
     "data": {
      "text/html": [
       "<div>\n",
       "<style scoped>\n",
       "    .dataframe tbody tr th:only-of-type {\n",
       "        vertical-align: middle;\n",
       "    }\n",
       "\n",
       "    .dataframe tbody tr th {\n",
       "        vertical-align: top;\n",
       "    }\n",
       "\n",
       "    .dataframe thead th {\n",
       "        text-align: right;\n",
       "    }\n",
       "</style>\n",
       "<table border=\"1\" class=\"dataframe\">\n",
       "  <thead>\n",
       "    <tr style=\"text-align: right;\">\n",
       "      <th></th>\n",
       "      <th>Date</th>\n",
       "      <th>T</th>\n",
       "      <th>RH</th>\n",
       "      <th>Gas</th>\n",
       "      <th>Value</th>\n",
       "      <th>Unnamed: 5</th>\n",
       "      <th>Unnamed: 6</th>\n",
       "    </tr>\n",
       "  </thead>\n",
       "  <tbody>\n",
       "    <tr>\n",
       "      <th>0</th>\n",
       "      <td>15/3/2016</td>\n",
       "      <td>12.020833</td>\n",
       "      <td>54.883334</td>\n",
       "      <td>CO</td>\n",
       "      <td>1053.200000</td>\n",
       "      <td>NaN</td>\n",
       "      <td>NaN</td>\n",
       "    </tr>\n",
       "    <tr>\n",
       "      <th>1</th>\n",
       "      <td>16/3/2016</td>\n",
       "      <td>9.833333</td>\n",
       "      <td>64.069791</td>\n",
       "      <td>CO</td>\n",
       "      <td>995.250000</td>\n",
       "      <td>NaN</td>\n",
       "      <td>NaN</td>\n",
       "    </tr>\n",
       "    <tr>\n",
       "      <th>2</th>\n",
       "      <td>17/3/2016</td>\n",
       "      <td>11.292708</td>\n",
       "      <td>51.107292</td>\n",
       "      <td>CO</td>\n",
       "      <td>1025.250000</td>\n",
       "      <td>NaN</td>\n",
       "      <td>NaN</td>\n",
       "    </tr>\n",
       "    <tr>\n",
       "      <th>3</th>\n",
       "      <td>18/3/2016</td>\n",
       "      <td>12.866319</td>\n",
       "      <td>51.530903</td>\n",
       "      <td>CO</td>\n",
       "      <td>1064.444444</td>\n",
       "      <td>NaN</td>\n",
       "      <td>NaN</td>\n",
       "    </tr>\n",
       "    <tr>\n",
       "      <th>4</th>\n",
       "      <td>19/3/2016</td>\n",
       "      <td>16.016667</td>\n",
       "      <td>48.843750</td>\n",
       "      <td>CO</td>\n",
       "      <td>1088.741667</td>\n",
       "      <td>NaN</td>\n",
       "      <td>NaN</td>\n",
       "    </tr>\n",
       "    <tr>\n",
       "      <th>...</th>\n",
       "      <td>...</td>\n",
       "      <td>...</td>\n",
       "      <td>...</td>\n",
       "      <td>...</td>\n",
       "      <td>...</td>\n",
       "      <td>...</td>\n",
       "      <td>...</td>\n",
       "    </tr>\n",
       "    <tr>\n",
       "      <th>323</th>\n",
       "      <td>1/2/2017</td>\n",
       "      <td>5.267708</td>\n",
       "      <td>39.614930</td>\n",
       "      <td>CO</td>\n",
       "      <td>729.422222</td>\n",
       "      <td>NaN</td>\n",
       "      <td>NaN</td>\n",
       "    </tr>\n",
       "    <tr>\n",
       "      <th>324</th>\n",
       "      <td>2/2/2017</td>\n",
       "      <td>-55.515972</td>\n",
       "      <td>-24.010417</td>\n",
       "      <td>CO</td>\n",
       "      <td>474.291667</td>\n",
       "      <td>NaN</td>\n",
       "      <td>NaN</td>\n",
       "    </tr>\n",
       "    <tr>\n",
       "      <th>325</th>\n",
       "      <td>3/2/2017</td>\n",
       "      <td>-14.272917</td>\n",
       "      <td>28.563542</td>\n",
       "      <td>CO</td>\n",
       "      <td>615.700000</td>\n",
       "      <td>NaN</td>\n",
       "      <td>NaN</td>\n",
       "    </tr>\n",
       "    <tr>\n",
       "      <th>326</th>\n",
       "      <td>4/2/2017</td>\n",
       "      <td>4.848611</td>\n",
       "      <td>37.832986</td>\n",
       "      <td>CO</td>\n",
       "      <td>691.713889</td>\n",
       "      <td>NaN</td>\n",
       "      <td>NaN</td>\n",
       "    </tr>\n",
       "    <tr>\n",
       "      <th>327</th>\n",
       "      <td>5/2/2017</td>\n",
       "      <td>7.273958</td>\n",
       "      <td>31.809375</td>\n",
       "      <td>CO</td>\n",
       "      <td>867.600000</td>\n",
       "      <td>NaN</td>\n",
       "      <td>NaN</td>\n",
       "    </tr>\n",
       "  </tbody>\n",
       "</table>\n",
       "<p>328 rows × 7 columns</p>\n",
       "</div>"
      ],
      "text/plain": [
       "          Date          T         RH Gas        Value  Unnamed: 5  Unnamed: 6\n",
       "0    15/3/2016  12.020833  54.883334  CO  1053.200000         NaN         NaN\n",
       "1    16/3/2016   9.833333  64.069791  CO   995.250000         NaN         NaN\n",
       "2    17/3/2016  11.292708  51.107292  CO  1025.250000         NaN         NaN\n",
       "3    18/3/2016  12.866319  51.530903  CO  1064.444444         NaN         NaN\n",
       "4    19/3/2016  16.016667  48.843750  CO  1088.741667         NaN         NaN\n",
       "..         ...        ...        ...  ..          ...         ...         ...\n",
       "323   1/2/2017   5.267708  39.614930  CO   729.422222         NaN         NaN\n",
       "324   2/2/2017 -55.515972 -24.010417  CO   474.291667         NaN         NaN\n",
       "325   3/2/2017 -14.272917  28.563542  CO   615.700000         NaN         NaN\n",
       "326   4/2/2017   4.848611  37.832986  CO   691.713889         NaN         NaN\n",
       "327   5/2/2017   7.273958  31.809375  CO   867.600000         NaN         NaN\n",
       "\n",
       "[328 rows x 7 columns]"
      ]
     },
     "execution_count": 41,
     "metadata": {},
     "output_type": "execute_result"
    }
   ],
   "source": [
    "df.loc[df.Gas=='CO'].RH"
   ]
  },
  {
   "cell_type": "code",
   "execution_count": 45,
   "metadata": {},
   "outputs": [
    {
     "data": {
      "text/plain": [
       "<AxesSubplot:xlabel='Date', ylabel='RH'>"
      ]
     },
     "execution_count": 45,
     "metadata": {},
     "output_type": "execute_result"
    },
    {
     "data": {
      "image/png": "[encoded data removed]",
      "text/plain": [
       "<Figure size 1440x432 with 1 Axes>"
      ]
     },
     "metadata": {
      "needs_background": "light"
     },
     "output_type": "display_data"
    }
   ],
   "source": [
    "plt.figure(figsize=(20,6))\n",
    "plt.xticks(fontsize=3, rotation=90)\n",
    "sns.lineplot(y=df.loc[df.Gas=='CO'].RH, x=df.loc[df.Gas=='CO'].Date)"
   ]
  },
  {
   "cell_type": "code",
   "execution_count": null,
   "metadata": {},
   "outputs": [],
   "source": [
    "plt.figure(figsize=(8,6))"
   ]
  },
  {
   "cell_type": "code",
   "execution_count": 16,
   "metadata": {},
   "outputs": [
    {
     "data": {
      "text/plain": [
       "3.789473684210526"
      ]
     },
     "execution_count": 16,
     "metadata": {},
     "output_type": "execute_result"
    }
   ],
   "source": [
    "(3*4.0 + 3*3.5 + 5*4.0 + 5*3.5 + 3*4.0) / 19"
   ]
  },
  {
   "cell_type": "code",
   "execution_count": 17,
   "metadata": {},
   "outputs": [
    {
     "data": {
      "text/plain": [
       "72.0"
      ]
     },
     "execution_count": 17,
     "metadata": {},
     "output_type": "execute_result"
    }
   ],
   "source": [
    "3*4.0 + 3*3.5 + 5*4.0 + 5*3.5 + 3*4.0"
   ]
  },
  {
   "cell_type": "code",
   "execution_count": 21,
   "metadata": {},
   "outputs": [
    {
     "data": {
      "text/plain": [
       "3.5615873015873016"
      ]
     },
     "execution_count": 21,
     "metadata": {},
     "output_type": "execute_result"
    }
   ],
   "source": [
    "(83.49+64.89+76)/(23+21+19)"
   ]
  }
 ],
 "metadata": {
  "kernelspec": {
   "display_name": "Python 3.10.4 64-bit",
   "language": "python",
   "name": "python3"
  },
  "language_info": {
   "codemirror_mode": {
    "name": "ipython",
    "version": 3
   },
   "file_extension": ".py",
   "mimetype": "text/x-python",
   "name": "python",
   "nbconvert_exporter": "python",
   "pygments_lexer": "ipython3",
   "version": "3.10.4"
  },
  "orig_nbformat": 4,
  "vscode": {
   "interpreter": {
    "hash": "463e62ad2bb899d6fe38230bd5850dbad6ba1b0e22bf8bd765426624890397ac"
   }
  }
 },
 "nbformat": 4,
 "nbformat_minor": 2
}
